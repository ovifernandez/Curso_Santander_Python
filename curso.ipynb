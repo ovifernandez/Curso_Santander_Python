{
 "cells": [
  {
   "metadata": {},
   "cell_type": "markdown",
   "source": "Hello world",
   "id": "8a8f0950cf0a8d3a"
  },
  {
   "cell_type": "code",
   "id": "initial_id",
   "metadata": {
    "collapsed": true,
    "ExecuteTime": {
     "end_time": "2025-09-16T09:45:38.792171Z",
     "start_time": "2025-09-16T09:45:38.789188Z"
    }
   },
   "source": [
    "from Scripts.pywin32_testall import failures\n",
    "\n",
    "print(\"Hello World\")"
   ],
   "outputs": [
    {
     "name": "stdout",
     "output_type": "stream",
     "text": [
      "Hello World\n"
     ]
    }
   ],
   "execution_count": 126
  },
  {
   "metadata": {},
   "cell_type": "markdown",
   "source": "Variables",
   "id": "45ed86189fcd1bad"
  },
  {
   "metadata": {
    "ExecuteTime": {
     "end_time": "2025-09-16T09:45:38.828523Z",
     "start_time": "2025-09-16T09:45:38.825493Z"
    }
   },
   "cell_type": "code",
   "source": [
    "name = \"Juan\"\n",
    "age = 25\n",
    "height = 1.75\n",
    "is_student = True\n",
    "a = b = c = 10"
   ],
   "id": "fc0ffabccc8f4b3f",
   "outputs": [],
   "execution_count": 127
  },
  {
   "metadata": {},
   "cell_type": "markdown",
   "source": "If elses",
   "id": "91ba506b9e3d920c"
  },
  {
   "metadata": {
    "ExecuteTime": {
     "end_time": "2025-09-16T09:45:38.881486Z",
     "start_time": "2025-09-16T09:45:38.877535Z"
    }
   },
   "cell_type": "code",
   "source": [
    "grade = 85\n",
    "\n",
    "if grade >= 90:\n",
    "    print (\"Excellent\")\n",
    "\n",
    "elif grade >= 80:\n",
    "    print (\"Very good\")\n",
    "\n",
    "elif grade >= 70:\n",
    "    print (\"Good\")\n",
    "\n",
    "else:\n",
    "    print (\"Needs improvement\")"
   ],
   "id": "d3c2e74adb0e7e23",
   "outputs": [
    {
     "name": "stdout",
     "output_type": "stream",
     "text": [
      "Very good\n"
     ]
    }
   ],
   "execution_count": 128
  },
  {
   "metadata": {},
   "cell_type": "markdown",
   "source": "For y while simples",
   "id": "49deb59b38a15989"
  },
  {
   "metadata": {
    "ExecuteTime": {
     "end_time": "2025-09-16T09:45:38.914490Z",
     "start_time": "2025-09-16T09:45:38.910851Z"
    }
   },
   "cell_type": "code",
   "source": [
    "fruits = [\"apple\", \"banana\", \"orange\"]\n",
    "\n",
    "for fruit in fruits:\n",
    "    print(fruit)\n",
    "\n",
    "counter = 0\n",
    "\n",
    "while counter < 5:\n",
    "\n",
    "    print(counter)\n",
    "    counter += 1"
   ],
   "id": "6160ca1971d5ae58",
   "outputs": [
    {
     "name": "stdout",
     "output_type": "stream",
     "text": [
      "apple\n",
      "banana\n",
      "orange\n",
      "0\n",
      "1\n",
      "2\n",
      "3\n",
      "4\n"
     ]
    }
   ],
   "execution_count": 129
  },
  {
   "metadata": {},
   "cell_type": "markdown",
   "source": "Uso de continue y pass",
   "id": "120b5cfeeb951d5"
  },
  {
   "metadata": {
    "ExecuteTime": {
     "end_time": "2025-09-16T09:45:39.052713Z",
     "start_time": "2025-09-16T09:45:39.049414Z"
    }
   },
   "cell_type": "code",
   "source": [
    "for i in range(10):\n",
    "\n",
    "    if i % 2 == 0:\n",
    "        continue\n",
    "    print(i)\n",
    "\n",
    "for i in range(5):\n",
    "    pass"
   ],
   "id": "4770b99493c65b4a",
   "outputs": [
    {
     "name": "stdout",
     "output_type": "stream",
     "text": [
      "1\n",
      "3\n",
      "5\n",
      "7\n",
      "9\n"
     ]
    }
   ],
   "execution_count": 130
  },
  {
   "metadata": {},
   "cell_type": "markdown",
   "source": "Listas",
   "id": "8d8a272eff93d92f"
  },
  {
   "metadata": {
    "ExecuteTime": {
     "end_time": "2025-09-16T09:45:39.122771Z",
     "start_time": "2025-09-16T09:45:39.118839Z"
    }
   },
   "cell_type": "code",
   "source": [
    "fruits = [\"apple\", \"banana\", \"orange\"]\n",
    "\n",
    "print(fruits[0])  # Prints \"apple\"\n",
    "print(fruits[1])  # Prints \"banana\"\n",
    "print(fruits[2])  # Prints \"orange\"\n",
    "\n",
    "#-1 es el ultimo, -2 el penultimo...\n",
    "print(\"\\n\" + fruits[-1])  # Prints \"orange\"\n",
    "print(fruits[-2])  # Prints \"banana\"\n",
    "print(fruits[-3])  # Prints \"apple\""
   ],
   "id": "e1426804ee5737e0",
   "outputs": [
    {
     "name": "stdout",
     "output_type": "stream",
     "text": [
      "apple\n",
      "banana\n",
      "orange\n",
      "\n",
      "orange\n",
      "banana\n",
      "apple\n"
     ]
    }
   ],
   "execution_count": 131
  },
  {
   "metadata": {},
   "cell_type": "markdown",
   "source": "Append",
   "id": "5d3da57252cb24e3"
  },
  {
   "metadata": {
    "ExecuteTime": {
     "end_time": "2025-09-16T09:45:39.198833Z",
     "start_time": "2025-09-16T09:45:39.194602Z"
    }
   },
   "cell_type": "code",
   "source": [
    "#Añadir nuevo elemento a lista al final.\n",
    "fruits.append(\"perita\")\n",
    "print(fruits)"
   ],
   "id": "6555fe2e2a1bad06",
   "outputs": [
    {
     "name": "stdout",
     "output_type": "stream",
     "text": [
      "['apple', 'banana', 'orange', 'perita']\n"
     ]
    }
   ],
   "execution_count": 132
  },
  {
   "metadata": {},
   "cell_type": "markdown",
   "source": "Insert",
   "id": "10becdeaccfdafbd"
  },
  {
   "metadata": {
    "ExecuteTime": {
     "end_time": "2025-09-16T09:45:39.273114Z",
     "start_time": "2025-09-16T09:45:39.269701Z"
    }
   },
   "cell_type": "code",
   "source": [
    "#Insertar en \"x\" posición de la lista nuevo elemento\n",
    "fruits.insert(2, \"mango\")\n",
    "print(fruits)"
   ],
   "id": "30941cdb667df017",
   "outputs": [
    {
     "name": "stdout",
     "output_type": "stream",
     "text": [
      "['apple', 'banana', 'mango', 'orange', 'perita']\n"
     ]
    }
   ],
   "execution_count": 133
  },
  {
   "metadata": {},
   "cell_type": "markdown",
   "source": "Remove",
   "id": "761d8e913554855d"
  },
  {
   "metadata": {
    "ExecuteTime": {
     "end_time": "2025-09-16T09:45:39.330622Z",
     "start_time": "2025-09-16T09:45:39.327336Z"
    }
   },
   "cell_type": "code",
   "source": [
    "fruits.remove(\"mango\")\n",
    "print(fruits)"
   ],
   "id": "f32dbbb49fc615a4",
   "outputs": [
    {
     "name": "stdout",
     "output_type": "stream",
     "text": [
      "['apple', 'banana', 'orange', 'perita']\n"
     ]
    }
   ],
   "execution_count": 134
  },
  {
   "metadata": {},
   "cell_type": "markdown",
   "source": "Pop",
   "id": "1adf86d7fb2c46d2"
  },
  {
   "metadata": {
    "ExecuteTime": {
     "end_time": "2025-09-16T09:45:39.387190Z",
     "start_time": "2025-09-16T09:45:39.384127Z"
    }
   },
   "cell_type": "code",
   "source": [
    "#Saca y devuelve el elemento que se quiere eliminar de la lista, para conservarlo en otra variable\n",
    "removed_fruit = fruits.pop(-1)\n",
    "print(removed_fruit)\n",
    "print(fruits)"
   ],
   "id": "434887952e2162dc",
   "outputs": [
    {
     "name": "stdout",
     "output_type": "stream",
     "text": [
      "perita\n",
      "['apple', 'banana', 'orange']\n"
     ]
    }
   ],
   "execution_count": 135
  },
  {
   "metadata": {},
   "cell_type": "markdown",
   "source": "Sort y reverse",
   "id": "3a679d560d29ee37"
  },
  {
   "metadata": {
    "ExecuteTime": {
     "end_time": "2025-09-16T09:45:39.437959Z",
     "start_time": "2025-09-16T09:45:39.434609Z"
    }
   },
   "cell_type": "code",
   "source": [
    "fruits.sort()\n",
    "print(fruits)\n",
    "\n",
    "\n",
    "fruits.reverse()\n",
    "print(fruits)"
   ],
   "id": "78cde660f261503b",
   "outputs": [
    {
     "name": "stdout",
     "output_type": "stream",
     "text": [
      "['apple', 'banana', 'orange']\n",
      "['orange', 'banana', 'apple']\n"
     ]
    }
   ],
   "execution_count": 136
  },
  {
   "metadata": {},
   "cell_type": "markdown",
   "source": "List comprehensions",
   "id": "fb3f4f1dc59759d1"
  },
  {
   "metadata": {
    "ExecuteTime": {
     "end_time": "2025-09-16T09:45:39.478357Z",
     "start_time": "2025-09-16T09:45:39.475009Z"
    }
   },
   "cell_type": "code",
   "source": [
    "numbers = [1, 2, 3, 4, 5]\n",
    "squares = [x ** 2 for x in numbers if x%2 == 0]\n",
    "print(squares)"
   ],
   "id": "d12f5037705449fa",
   "outputs": [
    {
     "name": "stdout",
     "output_type": "stream",
     "text": [
      "[4, 16]\n"
     ]
    }
   ],
   "execution_count": 137
  },
  {
   "metadata": {},
   "cell_type": "markdown",
   "source": "Tuplas",
   "id": "b8e6339525f64390"
  },
  {
   "metadata": {
    "ExecuteTime": {
     "end_time": "2025-09-16T09:45:39.524971Z",
     "start_time": "2025-09-16T09:45:39.521900Z"
    }
   },
   "cell_type": "code",
   "source": [
    "#You cannot add, delete or change elements in an existing tuple.\n",
    "point = (3, 4, 3)\n",
    "print(point[0])"
   ],
   "id": "9565a6f3a6aa7851",
   "outputs": [
    {
     "name": "stdout",
     "output_type": "stream",
     "text": [
      "3\n"
     ]
    }
   ],
   "execution_count": 138
  },
  {
   "metadata": {},
   "cell_type": "markdown",
   "source": "Count - devuelve el número de veces que hay un ELEMENTO en una TUPLA",
   "id": "f24a6a29c498aa85"
  },
  {
   "metadata": {
    "ExecuteTime": {
     "end_time": "2025-09-16T09:45:39.565175Z",
     "start_time": "2025-09-16T09:45:39.562241Z"
    }
   },
   "cell_type": "code",
   "source": "print(point.count(3))",
   "id": "9adb1542b141a585",
   "outputs": [
    {
     "name": "stdout",
     "output_type": "stream",
     "text": [
      "2\n"
     ]
    }
   ],
   "execution_count": 139
  },
  {
   "metadata": {},
   "cell_type": "markdown",
   "source": "Index - Devuelve el índice de la primera ocurrencia de un elemento de la tupla",
   "id": "bbd58a17da2ff7d5"
  },
  {
   "metadata": {
    "ExecuteTime": {
     "end_time": "2025-09-16T09:45:39.609197Z",
     "start_time": "2025-09-16T09:45:39.605171Z"
    }
   },
   "cell_type": "code",
   "source": "print(point.index(4))",
   "id": "8a347280c595c538",
   "outputs": [
    {
     "name": "stdout",
     "output_type": "stream",
     "text": [
      "1\n"
     ]
    }
   ],
   "execution_count": 140
  },
  {
   "metadata": {},
   "cell_type": "markdown",
   "source": "Diccionarios",
   "id": "2df377a4729b6ee4"
  },
  {
   "metadata": {
    "ExecuteTime": {
     "end_time": "2025-09-16T09:45:39.663895Z",
     "start_time": "2025-09-16T09:45:39.659481Z"
    }
   },
   "cell_type": "code",
   "source": [
    "person = {\"name\": \"Juan\", \"age\": 25, \"city\": \"Madrid\"}\n",
    "\n",
    "print(person[\"name\"])  # Prints \"Juan\"\n",
    "print(person[\"age\"])    # Prints 25\n",
    "print(person[\"city\"])  # Prints \"Madrid\"\n",
    "\n",
    "print(person.get(\"name\"))\n",
    "print(person.get(\"age\"))"
   ],
   "id": "d15fa8a30a889d5d",
   "outputs": [
    {
     "name": "stdout",
     "output_type": "stream",
     "text": [
      "Juan\n",
      "25\n",
      "Madrid\n",
      "Juan\n",
      "25\n"
     ]
    }
   ],
   "execution_count": 141
  },
  {
   "metadata": {},
   "cell_type": "markdown",
   "source": "Metodos de diccionarios",
   "id": "95015d425050d6dc"
  },
  {
   "metadata": {
    "ExecuteTime": {
     "end_time": "2025-09-16T09:45:39.718970Z",
     "start_time": "2025-09-16T09:45:39.715598Z"
    }
   },
   "cell_type": "code",
   "source": [
    "print(person.keys())\n",
    "print(person.values())\n",
    "print(person.items())\n",
    "\n",
    "person.update({\"name\": \"Perrosanxe\"})\n",
    "print(person.get(\"name\"))"
   ],
   "id": "116358c3de99c5ed",
   "outputs": [
    {
     "name": "stdout",
     "output_type": "stream",
     "text": [
      "dict_keys(['name', 'age', 'city'])\n",
      "dict_values(['Juan', 25, 'Madrid'])\n",
      "dict_items([('name', 'Juan'), ('age', 25), ('city', 'Madrid')])\n",
      "Perrosanxe\n"
     ]
    }
   ],
   "execution_count": 142
  },
  {
   "metadata": {},
   "cell_type": "markdown",
   "source": "Sets",
   "id": "20c1d32e755d1ced"
  },
  {
   "metadata": {
    "ExecuteTime": {
     "end_time": "2025-09-16T09:45:39.748573Z",
     "start_time": "2025-09-16T09:45:39.744930Z"
    }
   },
   "cell_type": "code",
   "source": [
    "fruits = {\"apple\", \"banana\", \"orange\"}\n",
    "numbers = set(range(5))\n",
    "\n",
    "set1 = {1, 2, 3}\n",
    "set2 = {3, 4, 5}\n",
    "set3 = {4, 5}\n",
    "\n",
    "union = set1 | set2\n",
    "union2 = set1| set3\n",
    "print(union)\n",
    "print(union2)"
   ],
   "id": "866b28cc38eb8b",
   "outputs": [
    {
     "name": "stdout",
     "output_type": "stream",
     "text": [
      "{1, 2, 3, 4, 5}\n",
      "{1, 2, 3, 4, 5}\n"
     ]
    }
   ],
   "execution_count": 143
  },
  {
   "metadata": {
    "ExecuteTime": {
     "end_time": "2025-09-16T09:45:39.788043Z",
     "start_time": "2025-09-16T09:45:39.784172Z"
    }
   },
   "cell_type": "code",
   "source": [
    "intersection = set1 & set2\n",
    "intersection2 = set1 & set3\n",
    "print(intersection)\n",
    "print(intersection2)"
   ],
   "id": "3a834e3ead31d74b",
   "outputs": [
    {
     "name": "stdout",
     "output_type": "stream",
     "text": [
      "{3}\n",
      "set()\n"
     ]
    }
   ],
   "execution_count": 144
  },
  {
   "metadata": {
    "ExecuteTime": {
     "end_time": "2025-09-16T09:45:39.835083Z",
     "start_time": "2025-09-16T09:45:39.831303Z"
    }
   },
   "cell_type": "code",
   "source": [
    "difference = set1 - set2\n",
    "difference2 = set1 - set3\n",
    "print(difference)\n",
    "print(difference2)"
   ],
   "id": "6053236d76037ca3",
   "outputs": [
    {
     "name": "stdout",
     "output_type": "stream",
     "text": [
      "{1, 2}\n",
      "{1, 2, 3}\n"
     ]
    }
   ],
   "execution_count": 145
  },
  {
   "metadata": {
    "ExecuteTime": {
     "end_time": "2025-09-16T09:45:39.878496Z",
     "start_time": "2025-09-16T09:45:39.875090Z"
    }
   },
   "cell_type": "code",
   "source": [
    "symmetric_difference = set1 ^ set2\n",
    "symmetric_difference2 = set1 ^ set3\n",
    "print(symmetric_difference)\n",
    "print(symmetric_difference2)"
   ],
   "id": "d1d245a4feefc86a",
   "outputs": [
    {
     "name": "stdout",
     "output_type": "stream",
     "text": [
      "{1, 2, 4, 5}\n",
      "{1, 2, 3, 4, 5}\n"
     ]
    }
   ],
   "execution_count": 146
  },
  {
   "metadata": {
    "ExecuteTime": {
     "end_time": "2025-09-16T09:45:39.909449Z",
     "start_time": "2025-09-16T09:45:39.906315Z"
    }
   },
   "cell_type": "code",
   "source": [
    "fruits.add(\"pear\")\n",
    "print(fruits)"
   ],
   "id": "56b7fb69b088fbb5",
   "outputs": [
    {
     "name": "stdout",
     "output_type": "stream",
     "text": [
      "{'orange', 'pear', 'apple', 'banana'}\n"
     ]
    }
   ],
   "execution_count": 147
  },
  {
   "metadata": {
    "ExecuteTime": {
     "end_time": "2025-09-16T09:45:40.021279Z",
     "start_time": "2025-09-16T09:45:40.017615Z"
    }
   },
   "cell_type": "code",
   "source": [
    "fruits.remove(\"banana\")\n",
    "print(fruits)"
   ],
   "id": "55c5c0adbba3082c",
   "outputs": [
    {
     "name": "stdout",
     "output_type": "stream",
     "text": [
      "{'orange', 'pear', 'apple'}\n"
     ]
    }
   ],
   "execution_count": 148
  },
  {
   "metadata": {
    "ExecuteTime": {
     "end_time": "2025-09-16T09:45:40.114245Z",
     "start_time": "2025-09-16T09:45:40.110962Z"
    }
   },
   "cell_type": "code",
   "source": [
    "fruits.add(\"grape\")\n",
    "fruits.discard(\"grape\")\n",
    "\n",
    "print(fruits)"
   ],
   "id": "2f519c5f51bfd33b",
   "outputs": [
    {
     "name": "stdout",
     "output_type": "stream",
     "text": [
      "{'grape', 'apple', 'pear', 'orange'}\n"
     ]
    }
   ],
   "execution_count": 149
  },
  {
   "metadata": {},
   "cell_type": "markdown",
   "source": "Funciones def",
   "id": "35b9e49fd65b8eaa"
  }
 ],
 "metadata": {
  "kernelspec": {
   "display_name": "Python 3",
   "language": "python",
   "name": "python3"
  },
  "language_info": {
   "codemirror_mode": {
    "name": "ipython",
    "version": 2
   },
   "file_extension": ".py",
   "mimetype": "text/x-python",
   "name": "python",
   "nbconvert_exporter": "python",
   "pygments_lexer": "ipython2",
   "version": "2.7.6"
  }
 },
 "nbformat": 4,
 "nbformat_minor": 5
}
